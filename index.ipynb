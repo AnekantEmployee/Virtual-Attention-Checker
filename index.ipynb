{
 "cells": [
  {
   "cell_type": "code",
   "execution_count": 25,
   "metadata": {},
   "outputs": [],
   "source": [
    "import numpy as np\n",
    "import pandas as pd"
   ]
  },
  {
   "cell_type": "code",
   "execution_count": 26,
   "metadata": {},
   "outputs": [],
   "source": [
    "df = pd.read_csv(\"final_output.csv\").iloc[:, 1:]"
   ]
  },
  {
   "cell_type": "code",
   "execution_count": 27,
   "metadata": {},
   "outputs": [
    {
     "data": {
      "text/html": [
       "<div>\n",
       "<style scoped>\n",
       "    .dataframe tbody tr th:only-of-type {\n",
       "        vertical-align: middle;\n",
       "    }\n",
       "\n",
       "    .dataframe tbody tr th {\n",
       "        vertical-align: top;\n",
       "    }\n",
       "\n",
       "    .dataframe thead th {\n",
       "        text-align: right;\n",
       "    }\n",
       "</style>\n",
       "<table border=\"1\" class=\"dataframe\">\n",
       "  <thead>\n",
       "    <tr style=\"text-align: right;\">\n",
       "      <th></th>\n",
       "      <th>is_verified</th>\n",
       "      <th>timestamp</th>\n",
       "      <th>face_path</th>\n",
       "      <th>eye_state</th>\n",
       "      <th>head_yaw</th>\n",
       "      <th>head_pitch</th>\n",
       "      <th>yawn_results</th>\n",
       "      <th>presenting_state</th>\n",
       "    </tr>\n",
       "  </thead>\n",
       "  <tbody>\n",
       "    <tr>\n",
       "      <th>1</th>\n",
       "      <td>True</td>\n",
       "      <td>2025-04-02T00:39:24.844128</td>\n",
       "      <td>faces\\face_1743534564844.jpg</td>\n",
       "      <td>-1</td>\n",
       "      <td>-8.16</td>\n",
       "      <td>-172.09</td>\n",
       "      <td>-1</td>\n",
       "      <td>0</td>\n",
       "    </tr>\n",
       "  </tbody>\n",
       "</table>\n",
       "</div>"
      ],
      "text/plain": [
       "   is_verified                   timestamp                     face_path  \\\n",
       "1         True  2025-04-02T00:39:24.844128  faces\\face_1743534564844.jpg   \n",
       "\n",
       "   eye_state  head_yaw  head_pitch  yawn_results  presenting_state  \n",
       "1         -1     -8.16     -172.09            -1                 0  "
      ]
     },
     "execution_count": 27,
     "metadata": {},
     "output_type": "execute_result"
    }
   ],
   "source": [
    "df.sample()"
   ]
  },
  {
   "cell_type": "code",
   "execution_count": 28,
   "metadata": {},
   "outputs": [],
   "source": [
    "df['timestamp'] = pd.to_datetime(df['timestamp'])\n",
    "df['seconds'] = df['timestamp'].dt.second"
   ]
  },
  {
   "cell_type": "code",
   "execution_count": 29,
   "metadata": {},
   "outputs": [],
   "source": [
    "df.fillna(-1, inplace=True)"
   ]
  },
  {
   "cell_type": "code",
   "execution_count": 30,
   "metadata": {},
   "outputs": [
    {
     "data": {
      "text/html": [
       "<div>\n",
       "<style scoped>\n",
       "    .dataframe tbody tr th:only-of-type {\n",
       "        vertical-align: middle;\n",
       "    }\n",
       "\n",
       "    .dataframe tbody tr th {\n",
       "        vertical-align: top;\n",
       "    }\n",
       "\n",
       "    .dataframe thead th {\n",
       "        text-align: right;\n",
       "    }\n",
       "</style>\n",
       "<table border=\"1\" class=\"dataframe\">\n",
       "  <thead>\n",
       "    <tr style=\"text-align: right;\">\n",
       "      <th></th>\n",
       "      <th>is_verified</th>\n",
       "      <th>timestamp</th>\n",
       "      <th>face_path</th>\n",
       "      <th>eye_state</th>\n",
       "      <th>head_yaw</th>\n",
       "      <th>head_pitch</th>\n",
       "      <th>yawn_results</th>\n",
       "      <th>presenting_state</th>\n",
       "      <th>seconds</th>\n",
       "    </tr>\n",
       "  </thead>\n",
       "  <tbody>\n",
       "    <tr>\n",
       "      <th>0</th>\n",
       "      <td>True</td>\n",
       "      <td>2025-04-02 00:39:20.942030</td>\n",
       "      <td>faces\\face_1743534560942.jpg</td>\n",
       "      <td>-1</td>\n",
       "      <td>3.67</td>\n",
       "      <td>-172.41</td>\n",
       "      <td>-1</td>\n",
       "      <td>0</td>\n",
       "      <td>20</td>\n",
       "    </tr>\n",
       "    <tr>\n",
       "      <th>1</th>\n",
       "      <td>True</td>\n",
       "      <td>2025-04-02 00:39:24.844128</td>\n",
       "      <td>faces\\face_1743534564844.jpg</td>\n",
       "      <td>-1</td>\n",
       "      <td>-8.16</td>\n",
       "      <td>-172.09</td>\n",
       "      <td>-1</td>\n",
       "      <td>0</td>\n",
       "      <td>24</td>\n",
       "    </tr>\n",
       "  </tbody>\n",
       "</table>\n",
       "</div>"
      ],
      "text/plain": [
       "   is_verified                  timestamp                     face_path  \\\n",
       "0         True 2025-04-02 00:39:20.942030  faces\\face_1743534560942.jpg   \n",
       "1         True 2025-04-02 00:39:24.844128  faces\\face_1743534564844.jpg   \n",
       "\n",
       "   eye_state  head_yaw  head_pitch  yawn_results  presenting_state  seconds  \n",
       "0         -1      3.67     -172.41            -1                 0       20  \n",
       "1         -1     -8.16     -172.09            -1                 0       24  "
      ]
     },
     "execution_count": 30,
     "metadata": {},
     "output_type": "execute_result"
    }
   ],
   "source": [
    "df"
   ]
  }
 ],
 "metadata": {
  "kernelspec": {
   "display_name": "venv",
   "language": "python",
   "name": "python3"
  },
  "language_info": {
   "codemirror_mode": {
    "name": "ipython",
    "version": 3
   },
   "file_extension": ".py",
   "mimetype": "text/x-python",
   "name": "python",
   "nbconvert_exporter": "python",
   "pygments_lexer": "ipython3",
   "version": "3.11.0"
  }
 },
 "nbformat": 4,
 "nbformat_minor": 2
}
